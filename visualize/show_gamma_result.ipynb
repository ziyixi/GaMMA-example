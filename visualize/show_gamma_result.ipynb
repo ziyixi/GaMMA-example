{
 "cells": [
  {
   "attachments": {},
   "cell_type": "markdown",
   "metadata": {},
   "source": [
    "This notebook is designed to visualize the GaMMA result, like figures shown in https://github.com/AI4EPS/GaMMA/blob/master/docs/example_synthetic.ipynb"
   ]
  },
  {
   "cell_type": "code",
   "execution_count": null,
   "metadata": {},
   "outputs": [],
   "source": [
    "import pandas as pd\n",
    "import seaborn as sns\n",
    "import matplotlib.pyplot as plt\n",
    "from pyproj import Proj\n",
    "import json\n",
    "import pygmt"
   ]
  },
  {
   "attachments": {},
   "cell_type": "markdown",
   "metadata": {},
   "source": [
    "## Configs"
   ]
  },
  {
   "cell_type": "code",
   "execution_count": null,
   "metadata": {},
   "outputs": [],
   "source": [
    "center=(-178, -19)"
   ]
  },
  {
   "cell_type": "code",
   "execution_count": null,
   "metadata": {},
   "outputs": [],
   "source": [
    "with open(\"../data/stations.json\") as json_file:\n",
    "    stations_raw = json.load(json_file)\n",
    "stations = pd.DataFrame(columns=[\"id\", \"x(km)\", \"y(km)\", \"z(km)\",\"longitude\",\"latitude\"])\n",
    "proj = Proj(\n",
    "    f\"+proj=sterea +lon_0={center[0]} +lat_0={center[1]} +units=km\")\n",
    "for key in stations_raw:\n",
    "    row = stations_raw[key]\n",
    "    x, y = proj(longitude=row[\"longitude\"], latitude=row[\"latitude\"]) # pylint: disable=unpacking-non-sequence\n",
    "    z = -row[\"elevation_m\"]/1000\n",
    "    stations.loc[len(stations)] = [key, x, y, z,row[\"longitude\"],row[\"latitude\"]]"
   ]
  },
  {
   "cell_type": "code",
   "execution_count": null,
   "metadata": {},
   "outputs": [],
   "source": [
    "stations.head()"
   ]
  },
  {
   "attachments": {},
   "cell_type": "markdown",
   "metadata": {},
   "source": [
    "## load data"
   ]
  },
  {
   "cell_type": "code",
   "execution_count": null,
   "metadata": {},
   "outputs": [],
   "source": [
    "df_global=pd.read_csv('../example_res/picks_global.csv',sep='\\t',index_col=0)\n",
    "df_global = df_global.reset_index(drop=True)\n",
    "# map event_index to from 0,1,2 to 2,1,0\n",
    "df_global['event_index']=df_global['event_index'].map({2:0,1:1,0:2})\n",
    "\n",
    "df_catalog_global=pd.read_csv('../example_res/catalogs_global.csv',sep='\\t',index_col=0)\n",
    "# timestamp to datetime\n",
    "df_global['timestamp']=pd.to_datetime(df_global['timestamp'])\n",
    "df_catalog_global['time']=pd.to_datetime(df_catalog_global['time'])\n",
    "# join df_global and df_catalog_global on event_index\n",
    "df_global=df_global.join(df_catalog_global.set_index('event_index'),on='event_index',rsuffix='_catalog')\n",
    "# join df_global and distance in station on id\n",
    "df_global=df_global.join(stations.set_index('id'),on='id',rsuffix='_station')\n",
    "\n",
    "df_catalog_local=pd.read_csv('../example_res/catalogs_local.csv',sep='\\t',index_col=0)\n",
    "df_catalog_local['time']=pd.to_datetime(df_catalog_local['time'])\n",
    "\n",
    "# join df_global and df_catalog_local on event_index, with suffix _local\n",
    "df_global=df_global.join(df_catalog_local.set_index('event_index'),on='event_index',rsuffix='_local')"
   ]
  },
  {
   "cell_type": "code",
   "execution_count": null,
   "metadata": {},
   "outputs": [],
   "source": [
    "# split df_global with event_index into a list of dataframes\n",
    "df_global_list = [df_global[df_global['event_index'] == i].copy() for i in df_global['event_index'].unique()]\n",
    "\n",
    "# for each dataframe in df_global_list, calculate tshift=t_pick-t_catalog\n",
    "# using .loc[row_indexer,col_indexer] = value syntax\n",
    "for df in df_global_list:\n",
    "    df.loc[:, 'tshift'] = df['timestamp'] - df['time']\n",
    "    # convert tshift to seconds\n",
    "    df.loc[:, 'tshift'] = df['tshift'].apply(lambda x: x.total_seconds())\n",
    "    # calculate tshift_local=timestamp-time_local\n",
    "    df.loc[:, 'tshift_local'] = df['timestamp'] - df['time_local']\n",
    "    # convert tshift_local to seconds\n",
    "    df.loc[:, 'tshift_local'] = df['tshift_local'].apply(lambda x: x.total_seconds())"
   ]
  },
  {
   "cell_type": "code",
   "execution_count": null,
   "metadata": {},
   "outputs": [],
   "source": [
    "df_global_list[0].iloc[0]"
   ]
  },
  {
   "cell_type": "code",
   "execution_count": null,
   "metadata": {},
   "outputs": [],
   "source": [
    "ground_truth_mapper={\n",
    "    0:(pd.to_datetime(\"2009-12-26T05:15:54.969999\"),-20.4003,-175.5445,168.4243),\n",
    "    2:(pd.to_datetime(\"2010-06-29T08:16:13.949997\"),-17.6654,-177.7512,523.6898),\n",
    "    1:(pd.to_datetime(\"2010-05-14T10:33:23.950001\"),-20.1968,-177.1223)\n",
    "}\n",
    "ground_truth_mapper"
   ]
  },
  {
   "cell_type": "code",
   "execution_count": null,
   "metadata": {},
   "outputs": [],
   "source": [
    "def plot(df,index):\n",
    "    df = df[df['type'] == 'p']\n",
    "    df.loc[:, 'tshift'] = df['tshift'] + 20\n",
    "    \n",
    "    fig = pygmt.Figure()\n",
    "\n",
    "    x = 20\n",
    "    y = df.iloc[0]['longitude']\n",
    "    x_local = (df.iloc[0]['time_local']-df.iloc[0]['time']).total_seconds()+20\n",
    "    y_local = df.iloc[0]['longitude_local']\n",
    "    \n",
    "    # Create a scatter plot using PyGMT\n",
    "    fig.plot(\n",
    "        x=df['tshift'],\n",
    "        y=df['longitude_station'],\n",
    "        style='c0.2c',\n",
    "        fill='blue',\n",
    "        pen='black',\n",
    "        projection='X15c/10c',\n",
    "        region=[0, df['tshift'].max()+20, min(df['longitude_station'].min(),y,y_local)-1, max(df['longitude_station'].max(),y,y_local)+1],\n",
    "        frame=[\"WSen\",\"xaf+lTime (s)\",\"yaf+lLongitude (deg)\"],\n",
    "    )\n",
    "    \n",
    "    # Plot the event origin location\n",
    "    fig.plot(x=x, y=y, style=\"c0.8c\", fill=None, pen=\"3p,red\")\n",
    "    fig.plot(x=x, y=y, style=\"+0.8c\", pen=\"3p,red\")\n",
    "    \n",
    "    # Label the station id with non-overlapping\n",
    "    for i in range(len(df)):\n",
    "        fig.text(x=df.iloc[i]['tshift'], y=df.iloc[i]['longitude_station'], text=df.iloc[i]['id'].split(\".\")[1], font='8p', justify='TR')\n",
    "\n",
    "    ground_truth_x=(ground_truth_mapper[index][0]-df.iloc[0]['time']).total_seconds()+20\n",
    "    ground_truth_y=ground_truth_mapper[index][2]\n",
    "\n",
    "    # Plot the ground truth location\n",
    "    fig.plot(x=ground_truth_x, y=ground_truth_y, style=\"c0.8c\", fill=None, pen=\"3p,green\")\n",
    "    fig.plot(x=ground_truth_x, y=ground_truth_y, style=\"+0.8c\", pen=\"3p,green\")\n",
    "\n",
    "    # Plot the local event origin location\n",
    "    fig.plot(x=x_local, y=y_local, style=\"c0.8c\", fill=None, pen=\"3p,blue\")\n",
    "    fig.plot(x=x_local, y=y_local, style=\"+0.8c\", pen=\"3p,blue\")\n",
    "\n",
    "    \n",
    "    fig.show()\n",
    "\n",
    "for index in range(3):\n",
    "    plot(df_global_list[index],index)\n"
   ]
  },
  {
   "cell_type": "code",
   "execution_count": null,
   "metadata": {},
   "outputs": [],
   "source": [
    "# show the stations' locations on the map using pygmt\n",
    "def show_map(df,index):\n",
    "    REGION=[-184, -172, -24, -14]\n",
    "\n",
    "    fig = pygmt.Figure()\n",
    "    fig.basemap(region=REGION, projection=\"M8i\",\n",
    "                        frame=[\"WSen\", \"xafg\", \"yafg\"])\n",
    "    fig.coast(water=\"white\", resolution=\"l\", land=\"GRAY81\",\n",
    "                borders=[\"1/0.1p,black\"], lakes=[\"GRAY81\"])\n",
    "    fig.plot(x=stations['longitude'], y=stations['latitude'], style=\"c0.3c\", fill=\"black\")\n",
    "    # plot longitude and latitude of stations in df in red color\n",
    "    fig.plot(x=df['longitude_station'], y=df['latitude_station'], style=\"c0.3c\", fill=\"blue\")\n",
    "    # also text the station id\n",
    "    for i in range(len(df)):\n",
    "        fig.text(x=df.iloc[i]['longitude_station'], y=df.iloc[i]['latitude_station'], text=df.iloc[i]['id'].split(\".\")[1], font='12p', justify='TR',offset=\"1.5c/0.3c\")\n",
    "    # plot event origin (longitude, latitude) in big circle with no fill\n",
    "    # print(df.iloc[0]['longitude'], df.iloc[0]['latitude'])\n",
    "    fig.plot(x=df.iloc[0]['longitude'], y=df.iloc[0]['latitude'], style=\"c0.8c\", fill=None, pen=\"3p,red\")\n",
    "    fig.plot(x=df.iloc[0]['longitude'], y=df.iloc[0]['latitude'], style=\"+0.8c\", pen=\"3p,red\")\n",
    "    # fig.text(x=df.iloc[0]['longitude'], y=df.iloc[0]['latitude'], text=\"INV\", font='12p', justify='TR',offset=\"1.5c/0.3c\")\n",
    "    # print(ground_truth_mapper[index][1],ground_truth_mapper[index][2])\n",
    "    fig.plot(x=ground_truth_mapper[index][2], y=ground_truth_mapper[index][1], style=\"c0.8c\", fill=None, pen=\"3p,green\")\n",
    "    fig.plot(x=ground_truth_mapper[index][2], y=ground_truth_mapper[index][1], style=\"+0.8c\", pen=\"3p,green\")\n",
    "    # fig.text(x=ground_truth_mapper[index][2], y=ground_truth_mapper[index][1], text=\"GT\", font='12p', justify='BL',offset=\"1.5c/0.3c\")\n",
    "\n",
    "    # plot local event origin (longitude, latitude) in big circle with no fill\n",
    "    fig.plot(x=df.iloc[0]['longitude_local'], y=df.iloc[0]['latitude_local'], style=\"c0.8c\", fill=None, pen=\"3p,blue\")\n",
    "    fig.plot(x=df.iloc[0]['longitude_local'], y=df.iloc[0]['latitude_local'], style=\"+0.8c\", pen=\"3p,blue\")\n",
    "\n",
    "    fig.show()\n",
    "\n",
    "# show_map(df_global_list[0],0)\n",
    "for index in range(3):\n",
    "    show_map(df_global_list[index],index)"
   ]
  },
  {
   "cell_type": "code",
   "execution_count": null,
   "metadata": {},
   "outputs": [],
   "source": []
  }
 ],
 "metadata": {
  "kernelspec": {
   "display_name": "debug-gamma-TYGjqcaZ-py3.9",
   "language": "python",
   "name": "python3"
  },
  "language_info": {
   "codemirror_mode": {
    "name": "ipython",
    "version": 3
   },
   "file_extension": ".py",
   "mimetype": "text/x-python",
   "name": "python",
   "nbconvert_exporter": "python",
   "pygments_lexer": "ipython3",
   "version": "3.9.7"
  },
  "orig_nbformat": 4
 },
 "nbformat": 4,
 "nbformat_minor": 2
}
