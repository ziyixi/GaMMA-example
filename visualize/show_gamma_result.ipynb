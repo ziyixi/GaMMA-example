{
 "cells": [
  {
   "attachments": {},
   "cell_type": "markdown",
   "metadata": {},
   "source": [
    "This notebook is designed to visualize the GaMMA result, like figures shown in https://github.com/AI4EPS/GaMMA/blob/master/docs/example_synthetic.ipynb"
   ]
  },
  {
   "cell_type": "code",
   "execution_count": 1,
   "metadata": {},
   "outputs": [],
   "source": [
    "import pandas as pd\n",
    "import seaborn as sns\n",
    "import matplotlib.pyplot as plt\n",
    "from pyproj import Proj\n",
    "import json\n",
    "import pygmt"
   ]
  },
  {
   "attachments": {},
   "cell_type": "markdown",
   "metadata": {},
   "source": [
    "## Configs"
   ]
  },
  {
   "cell_type": "code",
   "execution_count": 2,
   "metadata": {},
   "outputs": [],
   "source": [
    "center=(-178, -19)"
   ]
  },
  {
   "cell_type": "code",
   "execution_count": 3,
   "metadata": {},
   "outputs": [],
   "source": [
    "with open(\"../data/stations.json\") as json_file:\n",
    "    stations_raw = json.load(json_file)\n",
    "stations = pd.DataFrame(columns=[\"id\", \"x(km)\", \"y(km)\", \"z(km)\",\"longitude\",\"latitude\"])\n",
    "proj = Proj(\n",
    "    f\"+proj=sterea +lon_0={center[0]} +lat_0={center[1]} +units=km\")\n",
    "for key in stations_raw:\n",
    "    row = stations_raw[key]\n",
    "    x, y = proj(longitude=row[\"longitude\"], latitude=row[\"latitude\"]) # pylint: disable=unpacking-non-sequence\n",
    "    z = -row[\"elevation_m\"]/1000\n",
    "    stations.loc[len(stations)] = [key, x, y, z,row[\"longitude\"],row[\"latitude\"]]"
   ]
  },
  {
   "cell_type": "code",
   "execution_count": 4,
   "metadata": {},
   "outputs": [
    {
     "data": {
      "text/html": [
       "<div>\n",
       "<style scoped>\n",
       "    .dataframe tbody tr th:only-of-type {\n",
       "        vertical-align: middle;\n",
       "    }\n",
       "\n",
       "    .dataframe tbody tr th {\n",
       "        vertical-align: top;\n",
       "    }\n",
       "\n",
       "    .dataframe thead th {\n",
       "        text-align: right;\n",
       "    }\n",
       "</style>\n",
       "<table border=\"1\" class=\"dataframe\">\n",
       "  <thead>\n",
       "    <tr style=\"text-align: right;\">\n",
       "      <th></th>\n",
       "      <th>id</th>\n",
       "      <th>x(km)</th>\n",
       "      <th>y(km)</th>\n",
       "      <th>z(km)</th>\n",
       "      <th>longitude</th>\n",
       "      <th>latitude</th>\n",
       "    </tr>\n",
       "  </thead>\n",
       "  <tbody>\n",
       "    <tr>\n",
       "      <th>0</th>\n",
       "      <td>YL.B01W..HH</td>\n",
       "      <td>312.034960</td>\n",
       "      <td>-118.762866</td>\n",
       "      <td>1.723</td>\n",
       "      <td>-175.018005</td>\n",
       "      <td>-20.048300</td>\n",
       "    </tr>\n",
       "    <tr>\n",
       "      <th>1</th>\n",
       "      <td>YL.B03..BH</td>\n",
       "      <td>273.751404</td>\n",
       "      <td>-106.295665</td>\n",
       "      <td>2.015</td>\n",
       "      <td>-175.385498</td>\n",
       "      <td>-19.941401</td>\n",
       "    </tr>\n",
       "    <tr>\n",
       "      <th>2</th>\n",
       "      <td>YL.B06..BH</td>\n",
       "      <td>226.215212</td>\n",
       "      <td>-89.088659</td>\n",
       "      <td>2.201</td>\n",
       "      <td>-175.841400</td>\n",
       "      <td>-19.792000</td>\n",
       "    </tr>\n",
       "    <tr>\n",
       "      <th>3</th>\n",
       "      <td>YL.C02..BH</td>\n",
       "      <td>246.018470</td>\n",
       "      <td>-157.680054</td>\n",
       "      <td>2.062</td>\n",
       "      <td>-175.643494</td>\n",
       "      <td>-20.408899</td>\n",
       "    </tr>\n",
       "    <tr>\n",
       "      <th>4</th>\n",
       "      <td>YL.C04..BH</td>\n",
       "      <td>217.472386</td>\n",
       "      <td>-132.352162</td>\n",
       "      <td>2.197</td>\n",
       "      <td>-175.919800</td>\n",
       "      <td>-20.183599</td>\n",
       "    </tr>\n",
       "  </tbody>\n",
       "</table>\n",
       "</div>"
      ],
      "text/plain": [
       "            id       x(km)       y(km)  z(km)   longitude   latitude\n",
       "0  YL.B01W..HH  312.034960 -118.762866  1.723 -175.018005 -20.048300\n",
       "1   YL.B03..BH  273.751404 -106.295665  2.015 -175.385498 -19.941401\n",
       "2   YL.B06..BH  226.215212  -89.088659  2.201 -175.841400 -19.792000\n",
       "3   YL.C02..BH  246.018470 -157.680054  2.062 -175.643494 -20.408899\n",
       "4   YL.C04..BH  217.472386 -132.352162  2.197 -175.919800 -20.183599"
      ]
     },
     "execution_count": 4,
     "metadata": {},
     "output_type": "execute_result"
    }
   ],
   "source": [
    "stations.head()"
   ]
  },
  {
   "attachments": {},
   "cell_type": "markdown",
   "metadata": {},
   "source": [
    "## load data"
   ]
  },
  {
   "cell_type": "code",
   "execution_count": 16,
   "metadata": {},
   "outputs": [],
   "source": [
    "df_global=pd.read_csv('../example_res/picks_global.csv',sep='\\t',index_col=0,comment='#')\n",
    "df_global = df_global.reset_index(drop=True)\n",
    "# map event_index to from 3,4,7,6,5,2,1,0 to 0,1,2,3,4,5,6,7\n",
    "df_global['event_index']=df_global['event_index'].map({3:0,4:1,7:2,6:3,5:4,2:5,1:6,0:7})\n",
    "\n",
    "df_catalog_global=pd.read_csv('../example_res/catalogs_global.csv',sep='\\t',index_col=0,comment='#')\n",
    "# timestamp to datetime\n",
    "df_global['timestamp']=pd.to_datetime(df_global['timestamp'])\n",
    "df_catalog_global['time']=pd.to_datetime(df_catalog_global['time'])\n",
    "# join df_global and df_catalog_global on event_index\n",
    "df_global=df_global.join(df_catalog_global.set_index('event_index'),on='event_index',rsuffix='_catalog')\n",
    "# join df_global and distance in station on id\n",
    "df_global=df_global.join(stations.set_index('id'),on='id',rsuffix='_station')\n",
    "\n",
    "df_catalog_local=pd.read_csv('../example_res/catalogs_local.csv',sep='\\t',index_col=0,comment='#')\n",
    "\n",
    "df_catalog_local['time']=pd.to_datetime(df_catalog_local['time'])\n",
    "\n",
    "# join df_global and df_catalog_local on event_index, with suffix _local\n",
    "df_global=df_global.join(df_catalog_local.set_index('event_index'),on='event_index',rsuffix='_local')"
   ]
  },
  {
   "cell_type": "code",
   "execution_count": 17,
   "metadata": {},
   "outputs": [],
   "source": [
    "# split df_global with event_index into a list of dataframes\n",
    "df_global_list = [df_global[df_global['event_index'] == i].copy() for i in df_global['event_index'].unique()]\n",
    "\n",
    "# for each dataframe in df_global_list, calculate tshift=t_pick-t_catalog\n",
    "# using .loc[row_indexer,col_indexer] = value syntax\n",
    "for df in df_global_list:\n",
    "    df.loc[:, 'tshift'] = df['timestamp'] - df['time']\n",
    "    # convert tshift to seconds\n",
    "    df.loc[:, 'tshift'] = df['tshift'].apply(lambda x: x.total_seconds())\n",
    "    # calculate tshift_local=timestamp-time_local\n",
    "    df.loc[:, 'tshift_local'] = df['timestamp'] - df['time_local']\n",
    "    # convert tshift_local to seconds\n",
    "    df.loc[:, 'tshift_local'] = df['tshift_local'].apply(lambda x: x.total_seconds())"
   ]
  },
  {
   "cell_type": "code",
   "execution_count": 18,
   "metadata": {},
   "outputs": [
    {
     "data": {
      "text/plain": [
       "event_id                                  1_52318\n",
       "id                                     YL.A05..BH\n",
       "timestamp              2009-12-18 16:17:46.000002\n",
       "amp                                      0.000001\n",
       "type                                            p\n",
       "prob                                          1.0\n",
       "event_index                                     0\n",
       "gamma_score                              0.114702\n",
       "time                   2009-12-18 16:16:35.463000\n",
       "x(km)                                  -44.810067\n",
       "y(km)                                 -411.552467\n",
       "z(km)                                   558.64312\n",
       "magnitude                                     999\n",
       "sigma_time                               0.994991\n",
       "sigma_amp                                       0\n",
       "cov_time_amp                                    0\n",
       "gamma_score_catalog                          17.0\n",
       "longitude                             -178.435709\n",
       "latitude                               -22.715365\n",
       "depth(m)                            558643.120329\n",
       "x(km)_station                          189.801728\n",
       "y(km)_station                         -261.474567\n",
       "z(km)_station                               2.368\n",
       "longitude_station                     -176.171005\n",
       "latitude_station                         -21.3521\n",
       "time_local             2009-12-18 16:16:37.694000\n",
       "x(km)_local                           -314.259888\n",
       "y(km)_local                           -183.837479\n",
       "z(km)_local                                  10.0\n",
       "magnitude_local                               999\n",
       "sigma_time_local                         2.419871\n",
       "sigma_amp_local                                 0\n",
       "cov_time_amp_local                              0\n",
       "gamma_score_local                       11.895983\n",
       "longitude_local                        178.985745\n",
       "latitude_local                         -20.635216\n",
       "depth(m)_local                            10000.0\n",
       "tshift                                  70.537002\n",
       "tshift_local                            68.306002\n",
       "Name: 0, dtype: object"
      ]
     },
     "execution_count": 18,
     "metadata": {},
     "output_type": "execute_result"
    }
   ],
   "source": [
    "df_global_list[0].iloc[0]"
   ]
  },
  {
   "cell_type": "code",
   "execution_count": 19,
   "metadata": {},
   "outputs": [
    {
     "data": {
      "text/plain": [
       "{0: (Timestamp('2009-12-18 16:16:17.690002'), -24.3559, -179.6035, 613.0488),\n",
       " 1: (Timestamp('2009-12-18 16:29:52.279999'), -21.9949, -179.1595, 709.6464),\n",
       " 2: (Timestamp('2009-12-26 00:58:03.370003'), -18.8106, -177.7439, 465.9037),\n",
       " 3: (Timestamp('2009-12-26 05:15:54.969999'), -20.4003, -175.5445, 168.4243),\n",
       " 4: (Timestamp('2010-01-16 16:16:10.889999'), -19.6456, -175.5606, 226.2806),\n",
       " 5: (Timestamp('2010-05-14 10:33:23.950001'), -20.1968, -177.1223, 494.8412),\n",
       " 6: (Timestamp('2010-06-05 10:56:55.099998'), -23.4167, -178.722, 550.8715),\n",
       " 7: (Timestamp('2010-06-29 08:16:13.949997'), -17.6654, -177.7512, 523.6898)}"
      ]
     },
     "execution_count": 19,
     "metadata": {},
     "output_type": "execute_result"
    }
   ],
   "source": [
    "ground_truth_mapper = {\n",
    "    0: (pd.to_datetime(\"2009-12-18T16:16:17.690002\"), -24.3559, -179.6035, 613.0488),\n",
    "    1: (pd.to_datetime(\"2009-12-18T16:29:52.279999\"), -21.9949, -179.1595, 709.6464),\n",
    "    2: (pd.to_datetime(\"2009-12-26T00:58:03.370003\"), -18.8106, -177.7439, 465.9037),\n",
    "    3: (pd.to_datetime(\"2009-12-26T05:15:54.969999\"), -20.4003, -175.5445, 168.4243),\n",
    "    4: (pd.to_datetime(\"2010-01-16T16:16:10.889999\"), -19.6456, -175.5606, 226.2806),\n",
    "    5: (pd.to_datetime(\"2010-05-14T10:33:23.950001\"), -20.1968, -177.1223, 494.8412),\n",
    "    6: (pd.to_datetime(\"2010-06-05T10:56:55.099998\"), -23.4167, -178.722, 550.8715),\n",
    "    7: (pd.to_datetime(\"2010-06-29T08:16:13.949997\"), -17.6654, -177.7512, 523.6898),\n",
    "}\n",
    "\n",
    "ground_truth_mapper\n"
   ]
  },
  {
   "cell_type": "code",
   "execution_count": null,
   "metadata": {},
   "outputs": [],
   "source": [
    "def plot(df,index):\n",
    "    df = df[df['type'] == 'p']\n",
    "    df.loc[:, 'tshift'] = df['tshift'] + 20\n",
    "    \n",
    "    fig = pygmt.Figure()\n",
    "\n",
    "    x = 20\n",
    "    y = df.iloc[0]['longitude']\n",
    "    x_local = (df.iloc[0]['time_local']-df.iloc[0]['time']).total_seconds()+20\n",
    "    y_local = df.iloc[0]['longitude_local']\n",
    "    \n",
    "    # Create a scatter plot using PyGMT\n",
    "    fig.plot(\n",
    "        x=df['tshift'],\n",
    "        y=df['longitude_station'],\n",
    "        style='c0.2c',\n",
    "        fill='blue',\n",
    "        pen='black',\n",
    "        projection='X15c/10c',\n",
    "        region=[0, df['tshift'].max()+20, min(df['longitude_station'].min(),y,y_local)-1, max(df['longitude_station'].max(),y,y_local)+1],\n",
    "        frame=[\"WSen\",\"xaf+lTime (s)\",\"yaf+lLongitude (deg)\"],\n",
    "    )\n",
    "    \n",
    "    # Plot the event origin location\n",
    "    fig.plot(x=x, y=y, style=\"c0.8c\", fill=None, pen=\"3p,red\")\n",
    "    fig.plot(x=x, y=y, style=\"+0.8c\", pen=\"3p,red\")\n",
    "    \n",
    "    # Label the station id with non-overlapping\n",
    "    for i in range(len(df)):\n",
    "        fig.text(x=df.iloc[i]['tshift'], y=df.iloc[i]['longitude_station'], text=df.iloc[i]['id'].split(\".\")[1], font='8p', justify='TR')\n",
    "\n",
    "    ground_truth_x=(ground_truth_mapper[index][0]-df.iloc[0]['time']).total_seconds()+20\n",
    "    ground_truth_y=ground_truth_mapper[index][2]\n",
    "\n",
    "    # Plot the ground truth location\n",
    "    fig.plot(x=ground_truth_x, y=ground_truth_y, style=\"c0.8c\", fill=None, pen=\"3p,green\")\n",
    "    fig.plot(x=ground_truth_x, y=ground_truth_y, style=\"+0.8c\", pen=\"3p,green\")\n",
    "\n",
    "    # Plot the local event origin location\n",
    "    fig.plot(x=x_local, y=y_local, style=\"c0.8c\", fill=None, pen=\"3p,blue\")\n",
    "    fig.plot(x=x_local, y=y_local, style=\"+0.8c\", pen=\"3p,blue\")\n",
    "\n",
    "    \n",
    "    fig.show()\n",
    "\n",
    "for index in range(3):\n",
    "    plot(df_global_list[index],index)\n"
   ]
  },
  {
   "cell_type": "code",
   "execution_count": null,
   "metadata": {},
   "outputs": [],
   "source": [
    "# show the stations' locations on the map using pygmt\n",
    "def show_map(df,index):\n",
    "    REGION=[-184, -172, -24, -14]\n",
    "\n",
    "    fig = pygmt.Figure()\n",
    "    fig.basemap(region=REGION, projection=\"M8i\",\n",
    "                        frame=[\"WSen\", \"xafg\", \"yafg\"])\n",
    "    fig.coast(water=\"white\", resolution=\"l\", land=\"GRAY81\",\n",
    "                borders=[\"1/0.1p,black\"], lakes=[\"GRAY81\"])\n",
    "    fig.plot(x=stations['longitude'], y=stations['latitude'], style=\"c0.3c\", fill=\"black\")\n",
    "    # plot longitude and latitude of stations in df in red color\n",
    "    fig.plot(x=df['longitude_station'], y=df['latitude_station'], style=\"c0.3c\", fill=\"blue\")\n",
    "    # also text the station id\n",
    "    for i in range(len(df)):\n",
    "        fig.text(x=df.iloc[i]['longitude_station'], y=df.iloc[i]['latitude_station'], text=df.iloc[i]['id'].split(\".\")[1], font='12p', justify='TR',offset=\"1.5c/0.3c\")\n",
    "    # plot event origin (longitude, latitude) in big circle with no fill\n",
    "    # print(df.iloc[0]['longitude'], df.iloc[0]['latitude'])\n",
    "    fig.plot(x=df.iloc[0]['longitude'], y=df.iloc[0]['latitude'], style=\"c0.8c\", fill=None, pen=\"3p,red\")\n",
    "    fig.plot(x=df.iloc[0]['longitude'], y=df.iloc[0]['latitude'], style=\"+0.8c\", pen=\"3p,red\")\n",
    "    # fig.text(x=df.iloc[0]['longitude'], y=df.iloc[0]['latitude'], text=\"INV\", font='12p', justify='TR',offset=\"1.5c/0.3c\")\n",
    "    # print(ground_truth_mapper[index][1],ground_truth_mapper[index][2])\n",
    "    fig.plot(x=ground_truth_mapper[index][2], y=ground_truth_mapper[index][1], style=\"c0.8c\", fill=None, pen=\"3p,green\")\n",
    "    fig.plot(x=ground_truth_mapper[index][2], y=ground_truth_mapper[index][1], style=\"+0.8c\", pen=\"3p,green\")\n",
    "    # fig.text(x=ground_truth_mapper[index][2], y=ground_truth_mapper[index][1], text=\"GT\", font='12p', justify='BL',offset=\"1.5c/0.3c\")\n",
    "\n",
    "    # plot local event origin (longitude, latitude) in big circle with no fill\n",
    "    fig.plot(x=df.iloc[0]['longitude_local'], y=df.iloc[0]['latitude_local'], style=\"c0.8c\", fill=None, pen=\"3p,blue\")\n",
    "    fig.plot(x=df.iloc[0]['longitude_local'], y=df.iloc[0]['latitude_local'], style=\"+0.8c\", pen=\"3p,blue\")\n",
    "\n",
    "    fig.show()\n",
    "\n",
    "# show_map(df_global_list[0],0)\n",
    "for index in range(3):\n",
    "    show_map(df_global_list[index],index)"
   ]
  },
  {
   "cell_type": "code",
   "execution_count": null,
   "metadata": {},
   "outputs": [],
   "source": []
  }
 ],
 "metadata": {
  "kernelspec": {
   "display_name": "debug-gamma-TYGjqcaZ-py3.9",
   "language": "python",
   "name": "python3"
  },
  "language_info": {
   "codemirror_mode": {
    "name": "ipython",
    "version": 3
   },
   "file_extension": ".py",
   "mimetype": "text/x-python",
   "name": "python",
   "nbconvert_exporter": "python",
   "pygments_lexer": "ipython3",
   "version": "3.9.10"
  },
  "orig_nbformat": 4
 },
 "nbformat": 4,
 "nbformat_minor": 2
}
